{
 "cells": [
  {
   "cell_type": "markdown",
   "metadata": {},
   "source": [
    "<img src=\"https://camscanada.com/img/CarGurus.png\" width=600>"
   ]
  },
  {
   "cell_type": "markdown",
   "metadata": {},
   "source": [
    "\n",
    "<font size=8>**CAPSTONE PROJECT**</font>\n",
    "\n",
    "<font size=5>**Vehicle Price Prediction Part 2: Modeling**</font>\n",
    "\n",
    "\n",
    "By: Robby Khoutsaysana\n",
    "\n",
    "------------------------------------------------------------------------------------------"
   ]
  },
  {
   "cell_type": "markdown",
   "metadata": {},
   "source": [
    "## **Introduction**\n",
    "\n",
    "In this notebook we will be building a model to predict the price of a vehicle based on the data we have collected in the previous notebook. \n",
    "\n",
    "The dataset has been cleaned and prepared for model building in the previous notebook. We will be using the cleaned dataset for model building.\n",
    "\n",
    "This notebook will be divided into the following sections:\n",
    " \n",
    "* Data Preparation - Preparing the data for model building\n",
    "* Model Building & Tuning - Building and tuning the model\n",
    "* Model Selection & Evaluation - Selecting the best model and evaluating the model\n",
    "* Feature Importance & Hyperparameter Tuning - Evaluating the feature importance and hyperparameter tuning\n",
    "* Exporting the Model - Exporting the model for deployment\n",
    "* Summary - Summary of the project\n",
    "\n",
    "------------------------------------------------------------------------------------------\n"
   ]
  },
  {
   "cell_type": "markdown",
   "metadata": {},
   "source": [
    "Let's start by importing the necessary libraries and the cleaned dataset."
   ]
  },
  {
   "cell_type": "code",
   "execution_count": 1,
   "metadata": {},
   "outputs": [],
   "source": [
    "# Importing libraries\n",
    "import pandas as pd\n",
    "import numpy as np\n",
    "import matplotlib.pyplot as plt\n",
    "import seaborn as sns\n",
    "\n",
    "# removing scientific notation\n",
    "pd.set_option('display.float_format', lambda x: '%.3f' % x)"
   ]
  },
  {
   "cell_type": "code",
   "execution_count": 2,
   "metadata": {},
   "outputs": [],
   "source": [
    "# Importing the data\n",
    "df = pd.read_csv(\"cars_cleaned.csv\", index_col='vin')"
   ]
  },
  {
   "cell_type": "code",
   "execution_count": 3,
   "metadata": {},
   "outputs": [
    {
     "data": {
      "text/html": [
       "<div>\n",
       "<style scoped>\n",
       "    .dataframe tbody tr th:only-of-type {\n",
       "        vertical-align: middle;\n",
       "    }\n",
       "\n",
       "    .dataframe tbody tr th {\n",
       "        vertical-align: top;\n",
       "    }\n",
       "\n",
       "    .dataframe thead th {\n",
       "        text-align: right;\n",
       "    }\n",
       "</style>\n",
       "<table border=\"1\" class=\"dataframe\">\n",
       "  <thead>\n",
       "    <tr style=\"text-align: right;\">\n",
       "      <th></th>\n",
       "      <th>daysonmarket</th>\n",
       "      <th>horsepower</th>\n",
       "      <th>maximum_seating</th>\n",
       "      <th>mileage</th>\n",
       "      <th>price</th>\n",
       "      <th>savings_amount</th>\n",
       "      <th>torque</th>\n",
       "      <th>year</th>\n",
       "      <th>body_type_Hatchback</th>\n",
       "      <th>body_type_Pickup Truck</th>\n",
       "      <th>...</th>\n",
       "      <th>model_name_Equinox</th>\n",
       "      <th>model_name_Escape</th>\n",
       "      <th>model_name_Explorer</th>\n",
       "      <th>model_name_F-150</th>\n",
       "      <th>model_name_Fusion</th>\n",
       "      <th>model_name_Malibu</th>\n",
       "      <th>model_name_Rogue</th>\n",
       "      <th>model_name_Silverado 1500</th>\n",
       "      <th>model_name_Trax</th>\n",
       "      <th>size_of_vehicle</th>\n",
       "    </tr>\n",
       "    <tr>\n",
       "      <th>vin</th>\n",
       "      <th></th>\n",
       "      <th></th>\n",
       "      <th></th>\n",
       "      <th></th>\n",
       "      <th></th>\n",
       "      <th></th>\n",
       "      <th></th>\n",
       "      <th></th>\n",
       "      <th></th>\n",
       "      <th></th>\n",
       "      <th></th>\n",
       "      <th></th>\n",
       "      <th></th>\n",
       "      <th></th>\n",
       "      <th></th>\n",
       "      <th></th>\n",
       "      <th></th>\n",
       "      <th></th>\n",
       "      <th></th>\n",
       "      <th></th>\n",
       "      <th></th>\n",
       "    </tr>\n",
       "  </thead>\n",
       "  <tbody>\n",
       "    <tr>\n",
       "      <th>KL4CJCSB5FB212233</th>\n",
       "      <td>85</td>\n",
       "      <td>138.000</td>\n",
       "      <td>5</td>\n",
       "      <td>82208.000</td>\n",
       "      <td>9.433</td>\n",
       "      <td>471</td>\n",
       "      <td>148.000</td>\n",
       "      <td>2015</td>\n",
       "      <td>0</td>\n",
       "      <td>0</td>\n",
       "      <td>...</td>\n",
       "      <td>0</td>\n",
       "      <td>0</td>\n",
       "      <td>0</td>\n",
       "      <td>0</td>\n",
       "      <td>0</td>\n",
       "      <td>0</td>\n",
       "      <td>0</td>\n",
       "      <td>0</td>\n",
       "      <td>0</td>\n",
       "      <td>418.200</td>\n",
       "    </tr>\n",
       "    <tr>\n",
       "      <th>SALSH23478A168261</th>\n",
       "      <td>14</td>\n",
       "      <td>390.000</td>\n",
       "      <td>5</td>\n",
       "      <td>74497.000</td>\n",
       "      <td>9.616</td>\n",
       "      <td>689</td>\n",
       "      <td>410.000</td>\n",
       "      <td>2008</td>\n",
       "      <td>0</td>\n",
       "      <td>0</td>\n",
       "      <td>...</td>\n",
       "      <td>0</td>\n",
       "      <td>0</td>\n",
       "      <td>0</td>\n",
       "      <td>0</td>\n",
       "      <td>0</td>\n",
       "      <td>0</td>\n",
       "      <td>0</td>\n",
       "      <td>0</td>\n",
       "      <td>0</td>\n",
       "      <td>465.300</td>\n",
       "    </tr>\n",
       "    <tr>\n",
       "      <th>3GCUYDED1LG405605</th>\n",
       "      <td>30</td>\n",
       "      <td>355.000</td>\n",
       "      <td>6</td>\n",
       "      <td>3.000</td>\n",
       "      <td>10.587</td>\n",
       "      <td>0</td>\n",
       "      <td>383.000</td>\n",
       "      <td>2020</td>\n",
       "      <td>0</td>\n",
       "      <td>1</td>\n",
       "      <td>...</td>\n",
       "      <td>0</td>\n",
       "      <td>0</td>\n",
       "      <td>0</td>\n",
       "      <td>0</td>\n",
       "      <td>0</td>\n",
       "      <td>0</td>\n",
       "      <td>0</td>\n",
       "      <td>1</td>\n",
       "      <td>0</td>\n",
       "      <td>559.800</td>\n",
       "    </tr>\n",
       "    <tr>\n",
       "      <th>1N4BL4BV8LC263037</th>\n",
       "      <td>42</td>\n",
       "      <td>188.000</td>\n",
       "      <td>5</td>\n",
       "      <td>9.000</td>\n",
       "      <td>9.962</td>\n",
       "      <td>0</td>\n",
       "      <td>180.000</td>\n",
       "      <td>2020</td>\n",
       "      <td>0</td>\n",
       "      <td>0</td>\n",
       "      <td>...</td>\n",
       "      <td>0</td>\n",
       "      <td>0</td>\n",
       "      <td>0</td>\n",
       "      <td>0</td>\n",
       "      <td>0</td>\n",
       "      <td>0</td>\n",
       "      <td>0</td>\n",
       "      <td>0</td>\n",
       "      <td>0</td>\n",
       "      <td>449.900</td>\n",
       "    </tr>\n",
       "    <tr>\n",
       "      <th>JTMZFREV6JJ724429</th>\n",
       "      <td>19</td>\n",
       "      <td>176.000</td>\n",
       "      <td>5</td>\n",
       "      <td>64675.000</td>\n",
       "      <td>9.649</td>\n",
       "      <td>853</td>\n",
       "      <td>172.000</td>\n",
       "      <td>2018</td>\n",
       "      <td>0</td>\n",
       "      <td>0</td>\n",
       "      <td>...</td>\n",
       "      <td>0</td>\n",
       "      <td>0</td>\n",
       "      <td>0</td>\n",
       "      <td>0</td>\n",
       "      <td>0</td>\n",
       "      <td>0</td>\n",
       "      <td>0</td>\n",
       "      <td>0</td>\n",
       "      <td>0</td>\n",
       "      <td>442.600</td>\n",
       "    </tr>\n",
       "  </tbody>\n",
       "</table>\n",
       "<p>5 rows × 68 columns</p>\n",
       "</div>"
      ],
      "text/plain": [
       "                   daysonmarket  horsepower  maximum_seating   mileage  price  \\\n",
       "vin                                                                             \n",
       "KL4CJCSB5FB212233            85     138.000                5 82208.000  9.433   \n",
       "SALSH23478A168261            14     390.000                5 74497.000  9.616   \n",
       "3GCUYDED1LG405605            30     355.000                6     3.000 10.587   \n",
       "1N4BL4BV8LC263037            42     188.000                5     9.000  9.962   \n",
       "JTMZFREV6JJ724429            19     176.000                5 64675.000  9.649   \n",
       "\n",
       "                   savings_amount  torque  year  body_type_Hatchback  \\\n",
       "vin                                                                    \n",
       "KL4CJCSB5FB212233             471 148.000  2015                    0   \n",
       "SALSH23478A168261             689 410.000  2008                    0   \n",
       "3GCUYDED1LG405605               0 383.000  2020                    0   \n",
       "1N4BL4BV8LC263037               0 180.000  2020                    0   \n",
       "JTMZFREV6JJ724429             853 172.000  2018                    0   \n",
       "\n",
       "                   body_type_Pickup Truck  ...  model_name_Equinox  \\\n",
       "vin                                        ...                       \n",
       "KL4CJCSB5FB212233                       0  ...                   0   \n",
       "SALSH23478A168261                       0  ...                   0   \n",
       "3GCUYDED1LG405605                       1  ...                   0   \n",
       "1N4BL4BV8LC263037                       0  ...                   0   \n",
       "JTMZFREV6JJ724429                       0  ...                   0   \n",
       "\n",
       "                   model_name_Escape  model_name_Explorer  model_name_F-150  \\\n",
       "vin                                                                           \n",
       "KL4CJCSB5FB212233                  0                    0                 0   \n",
       "SALSH23478A168261                  0                    0                 0   \n",
       "3GCUYDED1LG405605                  0                    0                 0   \n",
       "1N4BL4BV8LC263037                  0                    0                 0   \n",
       "JTMZFREV6JJ724429                  0                    0                 0   \n",
       "\n",
       "                   model_name_Fusion  model_name_Malibu  model_name_Rogue  \\\n",
       "vin                                                                         \n",
       "KL4CJCSB5FB212233                  0                  0                 0   \n",
       "SALSH23478A168261                  0                  0                 0   \n",
       "3GCUYDED1LG405605                  0                  0                 0   \n",
       "1N4BL4BV8LC263037                  0                  0                 0   \n",
       "JTMZFREV6JJ724429                  0                  0                 0   \n",
       "\n",
       "                   model_name_Silverado 1500  model_name_Trax  size_of_vehicle  \n",
       "vin                                                                             \n",
       "KL4CJCSB5FB212233                          0                0          418.200  \n",
       "SALSH23478A168261                          0                0          465.300  \n",
       "3GCUYDED1LG405605                          1                0          559.800  \n",
       "1N4BL4BV8LC263037                          0                0          449.900  \n",
       "JTMZFREV6JJ724429                          0                0          442.600  \n",
       "\n",
       "[5 rows x 68 columns]"
      ]
     },
     "execution_count": 3,
     "metadata": {},
     "output_type": "execute_result"
    }
   ],
   "source": [
    "df.sample(5)"
   ]
  },
  {
   "cell_type": "code",
   "execution_count": 4,
   "metadata": {},
   "outputs": [
    {
     "data": {
      "text/plain": [
       "(2625910, 68)"
      ]
     },
     "execution_count": 4,
     "metadata": {},
     "output_type": "execute_result"
    }
   ],
   "source": [
    "df.shape"
   ]
  },
  {
   "cell_type": "markdown",
   "metadata": {},
   "source": [
    "Great! Now we have imported the necessary libraries and the cleaned dataset. Let's begin by preparing the data for model building.\n",
    "\n",
    "------------------------------------------------------------------------------------------"
   ]
  },
  {
   "cell_type": "markdown",
   "metadata": {},
   "source": [
    "## **Data Preparation**\n",
    "\n",
    "Here we will be preparing the data for model building. We will be splitting the data into training and testing sets. We will also be creating a validation set from the training set. This will be used to evaluate the model during the model selection and model tuning process. "
   ]
  },
  {
   "cell_type": "code",
   "execution_count": 5,
   "metadata": {},
   "outputs": [],
   "source": [
    "# Importing the necessary libraries\n",
    "from sklearn.model_selection import train_test_split\n",
    "from sklearn.preprocessing import StandardScaler\n",
    "from sklearn.linear_model import LinearRegression\n",
    "from sklearn.metrics import mean_squared_error as mse\n",
    "from sklearn.metrics import r2_score\n",
    "\n",
    "#ignore warnings\n",
    "import warnings\n",
    "warnings.filterwarnings('ignore')\n",
    "\n",
    "# Splitting the data into train and test sets\n",
    "X = df.drop('price', axis=1)\n",
    "y = df['price']\n",
    " \n",
    " # Splitting the data into train and test sets\n",
    "X_train, X_test, y_train, y_test = train_test_split(X, y, test_size=0.25, random_state=1) # setting random_state to get the same sample every time"
   ]
  },
  {
   "cell_type": "markdown",
   "metadata": {},
   "source": [
    "Now that we have prepared the data for model building, let's start by building our base model."
   ]
  },
  {
   "cell_type": "markdown",
   "metadata": {},
   "source": [
    "---\n",
    "\n",
    "## **Model Building**\n",
    "\n",
    "In this section we will be building our base model. We will be using the Linear Regression model to build our base model. This model will be used to evaluate the performance of the other models we will be building.\n",
    "\n",
    "We will be using the following models to predict the price of a vehicle:\n",
    "\n",
    "* Linear Regression - Base Model\n",
    "* KNN - K-Nearest Neighbors Model\n",
    "* Random Forest - Bagging Model\n",
    "* LightGBM - Boosting Model\n",
    "* XGBoost - Extreme Gradient Boosting Model\n",
    "* Neural Network (ANN) - Artificial Neural Network Model"
   ]
  },
  {
   "cell_type": "markdown",
   "metadata": {},
   "source": [
    "To start, let's scale the data using the StandardScaler. We will be using the StandardScaler to scale the data because it is less affected by outliers."
   ]
  },
  {
   "cell_type": "code",
   "execution_count": 6,
   "metadata": {},
   "outputs": [],
   "source": [
    "# instantiating the scaler\n",
    "scaler = StandardScaler()\n",
    "\n",
    "# fitting the scaler to the training data\n",
    "X_train_scaled = scaler.fit_transform(X_train)\n",
    "\n",
    "# transforming the test data\n",
    "X_test_scaled = scaler.transform(X_test)"
   ]
  },
  {
   "cell_type": "markdown",
   "metadata": {},
   "source": [
    "### **Linear Regression**\n",
    "\n",
    "Let's start by building our base model using the Linear Regression model. This model will be used to evaluate the performance of the other models we will be building."
   ]
  },
  {
   "cell_type": "code",
   "execution_count": 48,
   "metadata": {},
   "outputs": [
    {
     "name": "stdout",
     "output_type": "stream",
     "text": [
      "Train score: 0.8227933344580857\n",
      "Test score: 0.8206144253880584\n",
      "MSE: 0.04664499000976929\n",
      "RMSE: 0.21597451240775908\n",
      "MAE: 0.15296950779381613\n"
     ]
    }
   ],
   "source": [
    "# importing the necessary libraries\n",
    "from sklearn.linear_model import LinearRegression\n",
    "\n",
    "# instantiating the model\n",
    "lr = LinearRegression()\n",
    " \n",
    "# fitting the model to the training data\n",
    "lr.fit(X_train_scaled, y_train)\n",
    "\n",
    "# predicting on the test set\n",
    "y_pred = lr.predict(X_test_scaled)\n",
    " \n",
    "# scoring the train and test set\n",
    "print(f'Train score: {lr.score(X_train_scaled, y_train)}')\n",
    "print(f'Test score: {lr.score(X_test_scaled, y_test)}')\n",
    " \n",
    "# calculating the MSE\n",
    "print(f'MSE: {mse(y_test, y_pred)}')\n",
    " \n",
    "# calculating the RMSE\n",
    "print(f'RMSE: {np.sqrt(mse(y_test, y_pred))}')\n",
    " \n",
    "# calculating the MAE\n",
    "print(f'MAE: {np.mean(np.abs(y_test - y_pred))}')"
   ]
  },
  {
   "cell_type": "markdown",
   "metadata": {},
   "source": [
    "The results of the Linear Regression model are not bad. The model has a train score of ~0.82 and a test score of ~0.82. This means that the model is predicting the price of a vehicle with an accuracy of 82%. This is not bad for a base model.\n",
    "\n",
    "The MSE is a measure of the quality of an estimator. It is always non-negative, and the smaller the value, the better. The MSE of the Linear Regression model is ~0.046.\n",
    "\n",
    "The RMSE measures the distance between the predicted values and the actual values. The lower the RMSE, the better the model. The RMSE of the Linear Regression model is ~0.22, which means that the model is predicting the price of a vehicle with an error of ~0.22 units. This is not bad for a base model.\n",
    "\n",
    "The MAE measures the average magnitude of the errors in a set of predictions. Like the RMSE, the lower the MAE, the better the model. The MAE of the Linear Regression model is ~0.16, which means that the model is predicting the price of a vehicle with an error of ~0.16 units.\n",
    "\n",
    "Let's see if we can improve the performance with tuning the model. Lets do a grid search to find the best parameters for the model."
   ]
  },
  {
   "cell_type": "code",
   "execution_count": 10,
   "metadata": {},
   "outputs": [
    {
     "name": "stdout",
     "output_type": "stream",
     "text": [
      "{'copy_X': True, 'fit_intercept': True, 'n_jobs': -1, 'normalize': True}\n"
     ]
    }
   ],
   "source": [
    "# finding the best parameters for the model\n",
    "from sklearn.model_selection import GridSearchCV\n",
    " \n",
    "# creating a dictionary of hyperparameters\n",
    "params = {'fit_intercept': [True, False], 'normalize': [True, False], 'copy_X': [True, False], 'n_jobs': [-1]}\n",
    " \n",
    "# instantiating the grid search\n",
    "grid = GridSearchCV(lr, params, cv=5)\n",
    " \n",
    "# fitting the grid search\n",
    "grid.fit(X_train_scaled, y_train)\n",
    " \n",
    "# printing the best parameters\n",
    "print(grid.best_params_)"
   ]
  },
  {
   "cell_type": "markdown",
   "metadata": {},
   "source": [
    "Now that we have our optimal parameters, let's build our model using the optimal parameters."
   ]
  },
  {
   "cell_type": "code",
   "execution_count": 49,
   "metadata": {},
   "outputs": [
    {
     "name": "stdout",
     "output_type": "stream",
     "text": [
      "Train score: 0.8227933344580857\n",
      "Test score: 0.8206144253880584\n",
      "MSE: 0.04664499000976928\n",
      "RMSE: 0.21597451240775908\n",
      "MAE: 0.15296950779381616\n"
     ]
    }
   ],
   "source": [
    "# instantiating the model with the best parameters\n",
    "lr = LinearRegression(copy_X=True, fit_intercept=True, n_jobs=-1, normalize=True)\n",
    " \n",
    "# fitting the model to the training data\n",
    "lr.fit(X_train_scaled, y_train)\n",
    " \n",
    "# predicting on the test set\n",
    "y_pred = lr.predict(X_test_scaled)\n",
    "  \n",
    "# scoring the train and test set\n",
    "print(f'Train score: {lr.score(X_train_scaled, y_train)}')\n",
    "print(f'Test score: {lr.score(X_test_scaled, y_test)}')\n",
    "\n",
    "# calculating the MSE\n",
    "print(f'MSE: {mse(y_test, y_pred)}')\n",
    "\n",
    "# calculating the RMSE\n",
    "print(f'RMSE: {np.sqrt(mse(y_test, y_pred))}')\n",
    "\n",
    "# calculating the MAE\n",
    "print(f'MAE: {np.mean(np.abs(y_test - y_pred))}')"
   ]
  },
  {
   "cell_type": "markdown",
   "metadata": {},
   "source": [
    "Unfortunately, tuning the model did not improve the score. Let's try using a different model and see if we can get a better score.\n",
    "\n",
    "---"
   ]
  },
  {
   "cell_type": "markdown",
   "metadata": {},
   "source": [
    "### **KNN**\n",
    "\n",
    "The KNN model is a non-parametric model that is used for classification and regression. For regression, the model uses the average of the k-nearest neighbors to predict the target value. This is what we will be using the KNN model for.\n",
    "\n",
    "Since the KNN model is computationally expensive, we will reduce the number of observations in the dataset. This will reduce the computational time of the model and will allow us to tune the model without having to wait for a long time.\n",
    "\n",
    "Let's start by sampling 10% of the data, and prepare the data for model building."
   ]
  },
  {
   "cell_type": "code",
   "execution_count": 7,
   "metadata": {},
   "outputs": [],
   "source": [
    "# sampling 10% of the data\n",
    "df_sample = df.sample(frac=0.1, random_state=1)\n",
    " \n",
    "# splitting the data into train and test sets\n",
    "X = df_sample.drop('price', axis=1)\n",
    "y = df_sample['price']\n",
    "\n",
    "# Splitting the data into train and test sets\n",
    "X_train, X_test, y_train, y_test = train_test_split(X, y, test_size=0.25, random_state=1)\n",
    "\n",
    "# instantiating the scaler\n",
    "scaler = StandardScaler()\n",
    " \n",
    "# fitting the scaler and transforming it\n",
    "X_train_scaled = scaler.fit_transform(X_train)\n",
    "X_test_scaled = scaler.transform(X_test)"
   ]
  },
  {
   "cell_type": "markdown",
   "metadata": {},
   "source": [
    "Now that we have prepared the data for model building, let's start to build our KNN model."
   ]
  },
  {
   "cell_type": "code",
   "execution_count": 8,
   "metadata": {},
   "outputs": [
    {
     "name": "stdout",
     "output_type": "stream",
     "text": [
      "Train score: 0.9357447380058996\n",
      "Test score: 0.9013517302708879\n",
      "MSE: 0.025633075214469496\n",
      "RMSE: 0.1601033266814575\n",
      "MAE: 0.10959633545078047\n"
     ]
    }
   ],
   "source": [
    "# importing the necessary libraries for KNN\n",
    "from sklearn.neighbors import KNeighborsRegressor\n",
    " \n",
    "# instantiating the model\n",
    "knn = KNeighborsRegressor(n_jobs=-1)\n",
    "\n",
    "# fitting the model to the training data\n",
    "knn.fit(X_train_scaled, y_train)\n",
    " \n",
    "# predicting on the test set\n",
    "y_pred = knn.predict(X_test_scaled)\n",
    "\n",
    "# scoring the train and test set\n",
    "print(f'Train score: {knn.score(X_train_scaled, y_train)}') \n",
    "print(f'Test score: {knn.score(X_test_scaled, y_test)}')\n",
    "\n",
    "# calculating the MSE\n",
    "print(f'MSE: {mse(y_test, y_pred)}')\n",
    " \n",
    "# calculating the RMSE\n",
    "print(f'RMSE: {np.sqrt(mse(y_test, y_pred))}')\n",
    "\n",
    "# calculating the MAE\n",
    "print(f'MAE: {np.mean(np.abs(y_test - y_pred))}')"
   ]
  },
  {
   "cell_type": "markdown",
   "metadata": {},
   "source": [
    "But when evaluating the model, we want to use the entire dataset. Let's see how the model performs on the entire dataset."
   ]
  },
  {
   "cell_type": "code",
   "execution_count": null,
   "metadata": {},
   "outputs": [],
   "source": [
    "# Splitting the data into train and test sets\n",
    "X = df.drop('price', axis=1)\n",
    "y = df['price']\n",
    " \n",
    " # Splitting the data into train and test sets\n",
    "X_train, X_test, y_train, y_test = train_test_split(X, y, test_size=0.25, random_state=1)\n",
    "\n",
    "# instantiating the scaler\n",
    "scaler = StandardScaler()\n",
    " \n",
    "# fitting the scaler and transforming it\n",
    "X_train_scaled = scaler.fit_transform(X_train)\n",
    "X_test_scaled = scaler.transform(X_test)"
   ]
  },
  {
   "cell_type": "code",
   "execution_count": 50,
   "metadata": {},
   "outputs": [
    {
     "name": "stdout",
     "output_type": "stream",
     "text": [
      "Train score: 0.9585012519762014\n",
      "Test score: 0.9363369994420797\n",
      "MSE: 0.016554062562946156\n",
      "RMSE: 0.12866259193311066\n",
      "MAE: 0.08617174577664358\n"
     ]
    }
   ],
   "source": [
    "# importing the necessary libraries for KNN\n",
    "from sklearn.neighbors import KNeighborsRegressor\n",
    " \n",
    "# instantiating the model\n",
    "knn = KNeighborsRegressor(n_jobs=-1)\n",
    " \n",
    "# fitting the model to the training data\n",
    "knn.fit(X_train_scaled, y_train)\n",
    " \n",
    "# predicting on the test set\n",
    "y_pred = knn.predict(X_test_scaled)\n",
    " \n",
    "# scoring the train and test set\n",
    "print(f'Train score: {knn.score(X_train_scaled, y_train)}')\n",
    "print(f'Test score: {knn.score(X_test_scaled, y_test)}')\n",
    "\n",
    "# calculating the MSE\n",
    "print(f'MSE: {mse(y_test, y_pred)}')\n",
    "\n",
    "# calculating the RMSE\n",
    "print(f'RMSE: {np.sqrt(mse(y_test, y_pred))}')\n",
    " \n",
    "# calculating the MAE\n",
    "print(f'MAE: {np.mean(np.abs(y_test - y_pred))}')"
   ]
  },
  {
   "cell_type": "markdown",
   "metadata": {},
   "source": [
    "It is to be expected that the model performs better on the entire dataset than on the sampled dataset. But we still run into the problem of the model being computationally expensive. Let's see if we can improve the performance of the model by tuning the model.\n",
    "\n",
    "Since the KNN is highly reliant on the number of neighbors, we will be finding the optimal number of neighbors for the model. So lets try to find the optimal number of neighbors for the model using a validation curve.\n",
    "\n",
    "We will perform the rest of the tuning using the the subset of the data. Let's see if we can improve the performance of the model by tuning the model."
   ]
  },
  {
   "cell_type": "code",
   "execution_count": null,
   "metadata": {},
   "outputs": [],
   "source": [
    "# sampling 10% of the data\n",
    "df_sample = df.sample(frac=0.1, random_state=1)\n",
    " \n",
    "# splitting the data into train and test sets\n",
    "X = df_sample.drop('price', axis=1)\n",
    "y = df_sample['price']\n",
    "\n",
    "# Splitting the data into train and test sets\n",
    "X_train, X_test, y_train, y_test = train_test_split(X, y, test_size=0.25, random_state=1)\n",
    "\n",
    "# instantiating the scaler\n",
    "scaler = StandardScaler()\n",
    " \n",
    "# fitting the scaler and transforming it\n",
    "X_train_scaled = scaler.fit_transform(X_train)\n",
    "X_test_scaled = scaler.transform(X_test)"
   ]
  },
  {
   "cell_type": "code",
   "execution_count": 9,
   "metadata": {},
   "outputs": [],
   "source": [
    "# splitting the data into train and validation set\n",
    "X_train, X_val, y_train, y_val = train_test_split(X_train_scaled, y_train, test_size=0.25, random_state=1)\n",
    "\n",
    "# scaling the data\n",
    "scaler = StandardScaler()\n",
    "\n",
    "# fitting the scaler to the training data\n",
    "X_train_scaled = scaler.fit_transform(X_train)\n",
    " \n",
    "# transforming the validation data\n",
    "X_val_scaled = scaler.transform(X_val)"
   ]
  },
  {
   "cell_type": "markdown",
   "metadata": {},
   "source": [
    "Now let's use the split train and validation sets to find the optimal number of neighbors for the model."
   ]
  },
  {
   "cell_type": "code",
   "execution_count": 10,
   "metadata": {},
   "outputs": [
    {
     "data": {
      "image/png": "[encoded data removed]",
      "text/plain": [
       "<Figure size 720x576 with 1 Axes>"
      ]
     },
     "metadata": {
      "needs_background": "light"
     },
     "output_type": "display_data"
    }
   ],
   "source": [
    "# using the split set to find the optimal value for K in the KNN algorithm\n",
    "training_accuracy = []\n",
    "validation_accuracy = []\n",
    "\n",
    "# list of K values to try\n",
    "neighbors_settings = range(1, 11)\n",
    "\n",
    "# looping through the K values on scaled data\n",
    "for n_neighbors in neighbors_settings:\n",
    "    # building the model\n",
    "    knn = KNeighborsRegressor(n_neighbors=n_neighbors, n_jobs=-1)\n",
    "    knn.fit(X_train_scaled, y_train)\n",
    "    \n",
    "    # recording the training set accuracy\n",
    "    training_accuracy.append(knn.score(X_train_scaled, y_train))\n",
    "    \n",
    "    # recording the generalization accuracy\n",
    "    validation_accuracy.append(knn.score(X_val_scaled, y_val))\n",
    " \n",
    "# plotting the training and validation accuracy\n",
    "plt.figure(figsize=(10, 8))\n",
    "plt.plot(neighbors_settings, training_accuracy, label='training accuracy')\n",
    "plt.plot(neighbors_settings, validation_accuracy, label='validation accuracy')\n",
    "plt.title('Accuracy vs K Value')\n",
    "plt.ylabel('Accuracy')\n",
    "plt.xlabel('n_neighbors')\n",
    "plt.xticks(neighbors_settings)\n",
    "plt.legend()\n",
    "plt.show()"
   ]
  },
  {
   "cell_type": "code",
   "execution_count": 11,
   "metadata": {},
   "outputs": [
    {
     "name": "stdout",
     "output_type": "stream",
     "text": [
      "The optimal value for K is:  5\n"
     ]
    }
   ],
   "source": [
    "# the optimal value for K\n",
    "optimal_k = neighbors_settings[validation_accuracy.index(max(validation_accuracy))]\n",
    "print('The optimal value for K is: ', optimal_k)"
   ]
  },
  {
   "cell_type": "markdown",
   "metadata": {},
   "source": [
    "The plot above shows the optimal number of neighbors for the model. Let's build our model using the optimal number of neighbors."
   ]
  },
  {
   "cell_type": "code",
   "execution_count": 12,
   "metadata": {},
   "outputs": [
    {
     "name": "stdout",
     "output_type": "stream",
     "text": [
      "Train score: 0.9997369198840196\n",
      "Test score: 0.9170751108180707\n",
      "MSE: 0.0215474627926966\n",
      "RMSE: 0.1467905405422863\n",
      "MAE: 0.10010052239630321\n"
     ]
    }
   ],
   "source": [
    "# instantiating the model with the optimal K value\n",
    "knn = KNeighborsRegressor(n_neighbors=optimal_k, \n",
    "                          n_jobs=-1,  \n",
    "                          weights='distance', \n",
    "                          algorithm='kd_tree', \n",
    "                          leaf_size=30, \n",
    "                          p=1)\n",
    "\n",
    "# fitting the model to the training data\n",
    "knn.fit(X_train_scaled, y_train)\n",
    " \n",
    "# predicting on the test set\n",
    "y_pred = knn.predict(X_test_scaled)\n",
    " \n",
    "# scoring the train and test set\n",
    "print(f'Train score: {knn.score(X_train_scaled, y_train)}')\n",
    "print(f'Test score: {knn.score(X_test_scaled, y_test)}')\n",
    "\n",
    "# calculating the MSE\n",
    "print(f'MSE: {mse(y_test, y_pred)}')\n",
    "\n",
    "# calculating the RMSE\n",
    "print(f'RMSE: {np.sqrt(mse(y_test, y_pred))}')\n",
    "\n",
    "# calculating the MAE\n",
    "print(f'MAE: {np.mean(np.abs(y_test - y_pred))}')"
   ]
  },
  {
   "cell_type": "markdown",
   "metadata": {},
   "source": [
    "The KNN model is performing better than the Linear Regression model, but let's see if we can find a better model that can perform better than the KNN model.\n",
    "\n",
    "---"
   ]
  },
  {
   "cell_type": "markdown",
   "metadata": {},
   "source": [
    "### **Random Forest**\n",
    "\n",
    "The Random Forest model is a bagging model. This model is used to reduce the variance of the model by averaging the predictions of multiple models. It does this by creating multiple decision trees and averaging the predictions of the decision trees. Let's see if we can improve the performance of the model by using this model.\n",
    "\n",
    "Note: In this model we will not be scaling the data. This is because the Random Forest model is not affected by the scale of the data.\n",
    "\n",
    "Let's start by preparing the data for model building."
   ]
  },
  {
   "cell_type": "code",
   "execution_count": 9,
   "metadata": {},
   "outputs": [],
   "source": [
    "# Splitting the data into train and test sets\n",
    "X = df.drop('price', axis=1)\n",
    "y = df['price']\n",
    " \n",
    " # Splitting the data into train and test sets\n",
    "X_train, X_test, y_train, y_test = train_test_split(X, y, test_size=0.25, random_state=1)"
   ]
  },
  {
   "cell_type": "markdown",
   "metadata": {},
   "source": [
    "Next, let's build our Random Forest model."
   ]
  },
  {
   "cell_type": "code",
   "execution_count": 10,
   "metadata": {},
   "outputs": [
    {
     "name": "stdout",
     "output_type": "stream",
     "text": [
      "Train score: 0.9935516835148579\n",
      "Test score: 0.9597452687933881\n",
      "MSE: 0.010467293922826753\n",
      "RMSE: 0.1023097938753996\n",
      "MAE: 0.06707985060449934\n"
     ]
    }
   ],
   "source": [
    "# importing the necessary libraries for Random Forest\n",
    "from sklearn.ensemble import RandomForestRegressor\n",
    " \n",
    "# instantiating the model\n",
    "rf = RandomForestRegressor(n_jobs=-1, random_state=1)\n",
    " \n",
    "# fitting the model to the training data\n",
    "rf.fit(X_train, y_train)\n",
    " \n",
    "# predicting on the test set\n",
    "y_pred = rf.predict(X_test)\n",
    " \n",
    "# scoring the train and test set\n",
    "print(f'Train score: {rf.score(X_train, y_train)}')\n",
    "print(f'Test score: {rf.score(X_test, y_test)}')\n",
    "\n",
    "# calculating the MSE\n",
    "print(f'MSE: {mse(y_test, y_pred)}')\n",
    "\n",
    "# calculating the RMSE\n",
    "print(f'RMSE: {np.sqrt(mse(y_test, y_pred))}')\n",
    " \n",
    "# calculating the MAE\n",
    "print(f'MAE: {np.mean(np.abs(y_test - y_pred))}')"
   ]
  },
  {
   "cell_type": "markdown",
   "metadata": {},
   "source": [
    "The results of the Random Forest model are very good. Let's see if we can improve the performance of the model by tuning the model. Let's do a grid search to find the best parameters for the model."
   ]
  },
  {
   "cell_type": "code",
   "execution_count": 21,
   "metadata": {},
   "outputs": [
    {
     "name": "stdout",
     "output_type": "stream",
     "text": [
      "{'max_depth': 30, 'n_estimators': 300, 'n_jobs': -1}\n"
     ]
    }
   ],
   "source": [
    "# finding the best parameters for the model\n",
    "from sklearn.model_selection import GridSearchCV\n",
    " \n",
    "# creating a dictionary of hyperparameters\n",
    "params = {'n_estimators': [200, 300], 'max_depth': [20, 30], 'n_jobs': [-1]}\n",
    "    \n",
    "# instantiating the grid search\n",
    "grid = GridSearchCV(rf, params, cv=5)\n",
    " \n",
    "# fitting the grid search\n",
    "grid.fit(X_train, y_train)\n",
    " \n",
    "# printing the best parameters\n",
    "print(grid.best_params_)"
   ]
  },
  {
   "cell_type": "markdown",
   "metadata": {},
   "source": [
    "Now that we have our optimal parameters, let's build our model using the optimal parameters."
   ]
  },
  {
   "cell_type": "code",
   "execution_count": 11,
   "metadata": {},
   "outputs": [
    {
     "name": "stdout",
     "output_type": "stream",
     "text": [
      "Train score: 0.9894191345510667\n",
      "Test score: 0.9599250420559914\n",
      "MSE: 0.010420548123693817\n",
      "RMSE: 0.10208108602328747\n",
      "MAE: 0.06767637540074616\n"
     ]
    }
   ],
   "source": [
    "# instantiating the model with the best parameters\n",
    "rf = RandomForestRegressor(max_depth=30,\n",
    "                           n_estimators=300,\n",
    "                           n_jobs=-1,\n",
    "                           random_state=1)\n",
    " \n",
    "# fitting the model to the training data\n",
    "rf.fit(X_train, y_train)\n",
    " \n",
    "# predicting on the test set\n",
    "y_pred = rf.predict(X_test)\n",
    " \n",
    "# scoring the train and test set\n",
    "print(f'Train score: {rf.score(X_train, y_train)}')\n",
    "print(f'Test score: {rf.score(X_test, y_test)}')\n",
    "\n",
    "# calculating the MSE\n",
    "print(f'MSE: {mse(y_test, y_pred)}')\n",
    "\n",
    "# calculating the RMSE\n",
    "print(f'RMSE: {np.sqrt(mse(y_test, y_pred))}')\n",
    " \n",
    "# calculating the MAE\n",
    "print(f'MAE: {np.mean(np.abs(y_test - y_pred))}')"
   ]
  },
  {
   "cell_type": "markdown",
   "metadata": {},
   "source": [
    "It seems that tuning the model did improve the overall performance of the model. Let's see if we can find a better model that can perform better than the Random Forest model.\n",
    "\n",
    "---"
   ]
  },
  {
   "cell_type": "markdown",
   "metadata": {},
   "source": [
    "### **LightGBM**\n",
    " \n",
    "The LightGBM model is a gradient boosting machine model that uses a tree-based model to predict the price of a vehicle. \n",
    "\n",
    "It is designed to be distributed and efficient with the following advantages:\n",
    "\n",
    "* Faster training speed and higher efficiency.\n",
    "* Lower memory usage.\n",
    "* Better accuracy.\n",
    "* Support of parallel, distributed, and GPU learning.\n",
    "* Capable of handling large-scale data.\n",
    "\n",
    "More information about LightGBM can be found here: https://lightgbm.readthedocs.io/en/latest/\n",
    "\n",
    "**NOTE**: The LightGBM model is not available in the sklearn library. We will be using the LightGBM library to build the model. To install the LightGBM library, run the following command in the terminal:\n",
    "\n",
    "    pip install lightgbm"
   ]
  },
  {
   "cell_type": "code",
   "execution_count": 12,
   "metadata": {},
   "outputs": [
    {
     "name": "stdout",
     "output_type": "stream",
     "text": [
      "Train score: 0.9278775855024047\n",
      "Test score: 0.9271215371414958\n",
      "MSE: 0.01895032629750807\n",
      "RMSE: 0.1376601841401793\n",
      "MAE: 0.09996700760357151\n"
     ]
    }
   ],
   "source": [
    "# importing the necessary libraries for LightGBM\n",
    "import lightgbm as lgb\n",
    "\n",
    "# instantiating the model\n",
    "lgbm = lgb.LGBMRegressor(random_state=1)\n",
    "\n",
    "# fitting the model to the training data\n",
    "lgbm.fit(X_train, y_train)\n",
    " \n",
    "# predicting on the test set\n",
    "y_pred = lgbm.predict(X_test)\n",
    " \n",
    "# scoring the train and test set\n",
    "print(f'Train score: {lgbm.score(X_train, y_train)}')\n",
    "print(f'Test score: {lgbm.score(X_test, y_test)}')\n",
    "\n",
    "# calculating the MSE\n",
    "print(f'MSE: {mse(y_test, y_pred)}')\n",
    "\n",
    "# calculating the RMSE\n",
    "print(f'RMSE: {np.sqrt(mse(y_test, y_pred))}')\n",
    " \n",
    "# calculating the MAE\n",
    "print(f'MAE: {np.mean(np.abs(y_test - y_pred))}')"
   ]
  },
  {
   "cell_type": "markdown",
   "metadata": {},
   "source": [
    "The results of the LightGBM model is very good. Let's try and input some parameters to see if we can improve the score."
   ]
  },
  {
   "cell_type": "code",
   "execution_count": 13,
   "metadata": {},
   "outputs": [
    {
     "name": "stdout",
     "output_type": "stream",
     "text": [
      "Train score: 0.9443086337825409\n",
      "Test score: 0.9434366450810234\n",
      "MSE: 0.014707967074957091\n",
      "RMSE: 0.12127640774263183\n",
      "MAE: 0.08661372932137082\n"
     ]
    }
   ],
   "source": [
    "# importing the necessary libraries for LightGBM\n",
    "import lightgbm as lgb\n",
    "\n",
    "# instantiating the model\n",
    "lgbm = lgb.LGBMRegressor(n_estimators=1000,\n",
    "                         learning_rate=0.05,\n",
    "                         num_leaves=32,\n",
    "                         colsample_bytree=0.2,\n",
    "                         reg_alpha=3, \n",
    "                         reg_lambda=1, \n",
    "                         min_split_gain=0.01,\n",
    "                         min_child_weight=40,\n",
    "                         random_state=1)\n",
    "\n",
    "# fitting the model to the training data\n",
    "lgbm.fit(X_train, y_train)\n",
    " \n",
    "# predicting on the test set\n",
    "y_pred = lgbm.predict(X_test)\n",
    " \n",
    "# scoring the train and test set\n",
    "print(f'Train score: {lgbm.score(X_train, y_train)}')\n",
    "print(f'Test score: {lgbm.score(X_test, y_test)}')\n",
    "\n",
    "# calculating the MSE\n",
    "print(f'MSE: {mse(y_test, y_pred)}')\n",
    "\n",
    "# calculating the RMSE\n",
    "print(f'RMSE: {np.sqrt(mse(y_test, y_pred))}')\n",
    " \n",
    "# calculating the MAE\n",
    "print(f'MAE: {np.mean(np.abs(y_test - y_pred))}')"
   ]
  },
  {
   "cell_type": "markdown",
   "metadata": {},
   "source": [
    "Great! The model is performing much better now.\n",
    "\n",
    "Next, let's try a different model and see if we can get a better score.\n",
    "\n",
    "---"
   ]
  },
  {
   "cell_type": "markdown",
   "metadata": {},
   "source": [
    "### **XGBoost**\n",
    "\n",
    "The XGBoost model is an extreme gradient boosting model that uses a tree-based model to predict the price of a vehicle. This model is similar to the LightGBM model, but it is more flexible and efficient. Some of the advantages of the XGBoost model are:\n",
    "\n",
    "* Regularization - helps reduce overfitting.\n",
    "* Parallel Processing - XGBoost implements parallel processing and is blazingly faster as compared to GBM.\n",
    "* Handling Missing Values - It has an in-built routine to handle missing values.\n",
    "* Built-in Cross-Validation - allows user to run a cross-validation at each iteration of the boosting process.\n",
    " \n",
    "More information about XGBoost can be found here: https://xgboost.readthedocs.io/en/latest/"
   ]
  },
  {
   "cell_type": "code",
   "execution_count": 14,
   "metadata": {},
   "outputs": [
    {
     "name": "stdout",
     "output_type": "stream",
     "text": [
      "Train score: 0.9425255163702321\n",
      "Test score: 0.9407980068161614\n",
      "MSE: 0.015394082754939375\n",
      "RMSE: 0.12407289290952869\n",
      "MAE: 0.08943434670301965\n"
     ]
    }
   ],
   "source": [
    "# importing the necessary libraries for XGBoost\n",
    "from xgboost import XGBRegressor\n",
    " \n",
    "# instantiating the model\n",
    "xgb = XGBRegressor()\n",
    "\n",
    "# fitting the model to the training data\n",
    "xgb.fit(X_train, y_train)\n",
    " \n",
    "# predicting on the test set\n",
    "y_pred = xgb.predict(X_test)\n",
    "\n",
    "# scoring the train and test set\n",
    "print(f'Train score: {xgb.score(X_train, y_train)}')\n",
    "print(f'Test score: {xgb.score(X_test, y_test)}')\n",
    "\n",
    "# calculating the MSE\n",
    "print(f'MSE: {mse(y_test, y_pred)}')\n",
    "\n",
    "# calculating the RMSE\n",
    "print(f'RMSE: {np.sqrt(mse(y_test, y_pred))}')\n",
    " \n",
    "# calculating the MAE\n",
    "print(f'MAE: {np.mean(np.abs(y_test - y_pred))}')"
   ]
  },
  {
   "cell_type": "markdown",
   "metadata": {},
   "source": [
    "The results of the XGBoost model are very similar to the LightGBM model. Let's try and input some parameters to see if we can improve the score."
   ]
  },
  {
   "cell_type": "code",
   "execution_count": 11,
   "metadata": {},
   "outputs": [
    {
     "name": "stdout",
     "output_type": "stream",
     "text": [
      "Train score: 0.9684997086667949\n",
      "Test score: 0.957815676637107\n",
      "MSE: 0.010969038876663584\n",
      "RMSE: 0.10473317944502393\n",
      "MAE: 0.07299094630808085\n"
     ]
    }
   ],
   "source": [
    "# importing the necessary libraries for XGBoost\n",
    "from xgboost import XGBRegressor\n",
    "\n",
    "# instantiating the model\n",
    "xgb = XGBRegressor(\n",
    "    n_jobs=-1,\n",
    "    learning_rate=0.2,\n",
    "    max_depth=8,\n",
    "    min_child_weight=3,\n",
    "    n_estimators=1000,\n",
    "    subsample=0.7,\n",
    "    colsample_bytree=0.9\n",
    "    )\n",
    "\n",
    "# fitting the model to the training data\n",
    "xgb.fit(X_train, y_train)\n",
    " \n",
    "# predicting on the test set\n",
    "y_pred = xgb.predict(X_test)\n",
    "\n",
    "# scoring the train and test set\n",
    "print(f'Train score: {xgb.score(X_train, y_train)}')\n",
    "print(f'Test score: {xgb.score(X_test, y_test)}')\n",
    "\n",
    "# calculating the MSE\n",
    "print(f'MSE: {mse(y_test, y_pred)}')\n",
    "\n",
    "# calculating the RMSE\n",
    "print(f'RMSE: {np.sqrt(mse(y_test, y_pred))}')\n",
    " \n",
    "# calculating the MAE\n",
    "print(f'MAE: {np.mean(np.abs(y_test - y_pred))}')"
   ]
  },
  {
   "cell_type": "markdown",
   "metadata": {},
   "source": [
    "Great! The model is performing much better now.\n",
    "\n",
    "Next, let's try a different model and see if we can get a better score.\n",
    "\n",
    "---"
   ]
  },
  {
   "cell_type": "markdown",
   "metadata": {},
   "source": [
    "### **Neural Network (ANN)**\n",
    "\n",
    "The Neural Network model is an artificial neural network model that uses a neural network to predict the price of a vehicle. This model is similar to the Linear Regression model, but it uses a neural network to predict the price of a vehicle. We will be using the Neural Network model to see if we can improve the performance of our model.\n",
    "\n",
    "Let's start by preparing the data for modeling by splitting the data into train and validation sets, and saving some of the data for testing."
   ]
  },
  {
   "cell_type": "code",
   "execution_count": 6,
   "metadata": {},
   "outputs": [],
   "source": [
    "# splitting the data into train and test sets\n",
    "X_train, X_test, y_train, y_test = train_test_split(X, y, test_size=0.2, random_state=1)\n",
    "\n",
    "# splitting the train set into train and validation sets\n",
    "X_train, X_val, y_train, y_val = train_test_split(X_train, y_train, test_size=0.2, random_state=1)\n",
    "\n",
    "# scaling the data\n",
    "scaler = StandardScaler()\n",
    "X_train = scaler.fit_transform(X_train)\n",
    "X_val = scaler.transform(X_val)\n",
    "X_test = scaler.transform(X_test)"
   ]
  },
  {
   "cell_type": "markdown",
   "metadata": {},
   "source": [
    "Now that we have prepared the data for modeling, let's start to build our Neural Network model."
   ]
  },
  {
   "cell_type": "code",
   "execution_count": 25,
   "metadata": {},
   "outputs": [],
   "source": [
    "# importing the necessary libraries for Keras\n",
    "from tensorflow.keras.models import Sequential\n",
    "from tensorflow.keras.layers import Dense, Dropout\n",
    "from tensorflow.keras.callbacks import EarlyStopping\n",
    " \n",
    "# instantiating the model\n",
    "model = Sequential()\n",
    " \n",
    "# adding the input layer and the first hidden layer\n",
    "model.add(Dense(256, activation='relu', input_dim=X_train.shape[1]))\n",
    " \n",
    "# adding hidden layers\n",
    "model.add(Dense(128, activation='relu'))\n",
    "model.add(Dense(64, activation='relu'))\n",
    "model.add(Dense(32, activation='relu'))\n",
    "model.add(Dense(16, activation='relu'))\n",
    " \n",
    "# adding the output layer\n",
    "model.add(Dense(1))\n",
    "  \n",
    "# compiling the model\n",
    "model.compile(optimizer='adam', loss='mse') # mse is the mean squared error loss function for regression problems"
   ]
  },
  {
   "cell_type": "markdown",
   "metadata": {},
   "source": [
    "Let's take a look at the summary of the model."
   ]
  },
  {
   "cell_type": "code",
   "execution_count": 26,
   "metadata": {},
   "outputs": [
    {
     "name": "stdout",
     "output_type": "stream",
     "text": [
      "Model: \"sequential_3\"\n",
      "_________________________________________________________________\n",
      " Layer (type)                Output Shape              Param #   \n",
      "=================================================================\n",
      " dense_18 (Dense)            (None, 256)               17408     \n",
      "                                                                 \n",
      " dense_19 (Dense)            (None, 128)               32896     \n",
      "                                                                 \n",
      " dense_20 (Dense)            (None, 64)                8256      \n",
      "                                                                 \n",
      " dense_21 (Dense)            (None, 32)                2080      \n",
      "                                                                 \n",
      " dense_22 (Dense)            (None, 16)                528       \n",
      "                                                                 \n",
      " dense_23 (Dense)            (None, 1)                 17        \n",
      "                                                                 \n",
      "=================================================================\n",
      "Total params: 61,185\n",
      "Trainable params: 61,185\n",
      "Non-trainable params: 0\n",
      "_________________________________________________________________\n"
     ]
    }
   ],
   "source": [
    "model.summary()"
   ]
  },
  {
   "cell_type": "markdown",
   "metadata": {},
   "source": [
    "The summary of the model shows that the model has 61,185 trainable parameters. This is a lot of parameters, but it is not too bad because this will allow the model to learn the data better. Let's see how the model performs on the validation set."
   ]
  },
  {
   "cell_type": "code",
   "execution_count": 27,
   "metadata": {},
   "outputs": [
    {
     "name": "stdout",
     "output_type": "stream",
     "text": [
      "Epoch 1/100\n",
      "13130/13130 [==============================] - 43s 3ms/step - loss: 0.1461 - val_loss: 0.0220\n",
      "Epoch 2/100\n",
      "13130/13130 [==============================] - 41s 3ms/step - loss: 0.0229 - val_loss: 0.0221\n",
      "Epoch 3/100\n",
      "13130/13130 [==============================] - 40s 3ms/step - loss: 0.0199 - val_loss: 0.0176\n",
      "Epoch 4/100\n",
      "13130/13130 [==============================] - 41s 3ms/step - loss: 0.0181 - val_loss: 0.0170\n",
      "Epoch 5/100\n",
      "13130/13130 [==============================] - 41s 3ms/step - loss: 0.0171 - val_loss: 0.0173\n",
      "Epoch 6/100\n",
      "13130/13130 [==============================] - 42s 3ms/step - loss: 0.0162 - val_loss: 0.0148\n",
      "Epoch 7/100\n",
      "13130/13130 [==============================] - 42s 3ms/step - loss: 0.0156 - val_loss: 0.0147\n",
      "Epoch 8/100\n",
      "13130/13130 [==============================] - 41s 3ms/step - loss: 0.0152 - val_loss: 0.0143\n",
      "Epoch 9/100\n",
      "13130/13130 [==============================] - 42s 3ms/step - loss: 0.0147 - val_loss: 0.0166\n",
      "Epoch 10/100\n",
      "13130/13130 [==============================] - 40s 3ms/step - loss: 0.0144 - val_loss: 0.0142\n",
      "Epoch 11/100\n",
      "13130/13130 [==============================] - 42s 3ms/step - loss: 0.0142 - val_loss: 0.0139\n",
      "Epoch 12/100\n",
      "13130/13130 [==============================] - 40s 3ms/step - loss: 0.0141 - val_loss: 0.0137\n",
      "Epoch 13/100\n",
      "13130/13130 [==============================] - 42s 3ms/step - loss: 0.0139 - val_loss: 0.0137\n",
      "Epoch 14/100\n",
      "13130/13130 [==============================] - 41s 3ms/step - loss: 0.0137 - val_loss: 0.0136\n",
      "Epoch 15/100\n",
      "13130/13130 [==============================] - 42s 3ms/step - loss: 0.0136 - val_loss: 0.0139\n",
      "Epoch 16/100\n",
      "13130/13130 [==============================] - 43s 3ms/step - loss: 0.0135 - val_loss: 0.0139\n",
      "Epoch 17/100\n",
      "13130/13130 [==============================] - 42s 3ms/step - loss: 0.0134 - val_loss: 0.0142\n",
      "Epoch 18/100\n",
      "13130/13130 [==============================] - 41s 3ms/step - loss: 0.0133 - val_loss: 0.0140\n",
      "Epoch 19/100\n",
      "13130/13130 [==============================] - 41s 3ms/step - loss: 0.0133 - val_loss: 0.0133\n",
      "Epoch 20/100\n",
      "13130/13130 [==============================] - 43s 3ms/step - loss: 0.0132 - val_loss: 0.0135\n",
      "Epoch 21/100\n",
      "13130/13130 [==============================] - 43s 3ms/step - loss: 0.0131 - val_loss: 0.0136\n",
      "Epoch 22/100\n",
      "13130/13130 [==============================] - 42s 3ms/step - loss: 0.0131 - val_loss: 0.0132\n",
      "Epoch 23/100\n",
      "13130/13130 [==============================] - 41s 3ms/step - loss: 0.0130 - val_loss: 0.0132\n",
      "Epoch 24/100\n",
      "13130/13130 [==============================] - 41s 3ms/step - loss: 0.0130 - val_loss: 0.0134\n",
      "Epoch 25/100\n",
      "13130/13130 [==============================] - 40s 3ms/step - loss: 0.0129 - val_loss: 0.0144\n",
      "Epoch 26/100\n",
      "13130/13130 [==============================] - 43s 3ms/step - loss: 0.0129 - val_loss: 0.0132\n",
      "Epoch 27/100\n",
      "13130/13130 [==============================] - 42s 3ms/step - loss: 0.0128 - val_loss: 0.0129\n",
      "Epoch 28/100\n",
      "13130/13130 [==============================] - 42s 3ms/step - loss: 0.0128 - val_loss: 0.0131\n",
      "Epoch 29/100\n",
      "13130/13130 [==============================] - 42s 3ms/step - loss: 0.0127 - val_loss: 0.0132\n",
      "Epoch 30/100\n",
      "13130/13130 [==============================] - 42s 3ms/step - loss: 0.0127 - val_loss: 0.0131\n",
      "Epoch 31/100\n",
      "13130/13130 [==============================] - 43s 3ms/step - loss: 0.0127 - val_loss: 0.0129\n",
      "Epoch 32/100\n",
      "13126/13130 [============================>.] - ETA: 0s - loss: 0.0126Restoring model weights from the end of the best epoch: 27.\n",
      "13130/13130 [==============================] - 42s 3ms/step - loss: 0.0126 - val_loss: 0.0129\n",
      "Epoch 32: early stopping\n"
     ]
    },
    {
     "data": {
      "image/png": "[encoded data removed]",
      "text/plain": [
       "<Figure size 720x432 with 1 Axes>"
      ]
     },
     "metadata": {
      "needs_background": "light"
     },
     "output_type": "display_data"
    }
   ],
   "source": [
    "# instantiating the early stopping callback\n",
    "early_stop = EarlyStopping(monitor='val_loss',\n",
    "                           mode='min',\n",
    "                           verbose=1,\n",
    "                           patience=5,\n",
    "                           restore_best_weights=True)\n",
    " \n",
    "# fitting the model to the training data\n",
    "history = model.fit(x=X_train,\n",
    "                    y=y_train,\n",
    "                    epochs=100,\n",
    "                    batch_size=128,\n",
    "                    validation_data=(X_val, y_val),\n",
    "                    callbacks=[early_stop],\n",
    "                    verbose=1,\n",
    "                    shuffle=True,\n",
    "                    use_multiprocessing=True,\n",
    "                    workers=4,\n",
    "                    max_queue_size=10)\n",
    "\n",
    "# plotting the training and validation loss\n",
    "plt.figure(figsize=(10, 6))\n",
    "plt.plot(history.history['loss'], label='Training loss')\n",
    "plt.plot(history.history['val_loss'], label='Validation loss')\n",
    "plt.title('Training and validation loss')\n",
    "plt.xlabel('Epochs')\n",
    "plt.ylabel('Loss')\n",
    "plt.legend()\n",
    "plt.show()"
   ]
  },
  {
   "cell_type": "markdown",
   "metadata": {},
   "source": [
    "Now lets evaluate the model on the test set."
   ]
  },
  {
   "cell_type": "code",
   "execution_count": 28,
   "metadata": {},
   "outputs": [
    {
     "name": "stdout",
     "output_type": "stream",
     "text": [
      "16412/16412 [==============================] - 28s 2ms/step - loss: 0.0130\n",
      "Train Loss: 0.0126\n",
      "Test Loss: 0.0130\n",
      "16412/16412 [==============================] - 26s 2ms/step\n",
      "R2 Score: 0.9500\n",
      "MSE: 0.013014468142461077\n",
      "RMSE: 0.1140809718684982\n"
     ]
    }
   ],
   "source": [
    "# Evaluate the model using the test data and generate predictions\n",
    "train_loss = history.history[\"loss\"][-1]\n",
    "result = model.evaluate(X_test, y_test, verbose=1)\n",
    "\n",
    "print(f\"Train Loss: {train_loss:.4f}\")\n",
    "print(f\"Test Loss: {result:.4f}\")\n",
    "  \n",
    "# predicting on the test set\n",
    "y_pred = model.predict(X_test)\n",
    "\n",
    "# calculating the r2 score on the test set\n",
    "print(f\"R2 Score: {r2_score(y_test, y_pred):.4f}\")\n",
    "\n",
    "# calculating the MSE\n",
    "print(f'MSE: {mse(y_test, y_pred)}')\n",
    "  \n",
    "# calculating the RMSE\n",
    "print(f'RMSE: {np.sqrt(mse(y_test, y_pred))}')"
   ]
  },
  {
   "cell_type": "markdown",
   "metadata": {},
   "source": [
    "Fantastic! The Neural Network model is performing very well.\n",
    "\n",
    "---"
   ]
  },
  {
   "cell_type": "markdown",
   "metadata": {},
   "source": [
    "## **Model Selection and Evaluation**\n",
    "\n",
    "Now that we have our models, let's compare the scores of the models. \n",
    "\n",
    "| Model | R2 Score | MSE | RMSE | MAE |\n",
    "| --- | --- | --- | --- | --- |\n",
    "| Linear Regression | 0.82 | 0.05 | 0.22 | 0.15 |\n",
    "| KNN | 0.94 | 0.02 | 0.13 | 0.09 |\n",
    "| Random Forest | 0.96 | 0.01 | 0.13 | 0.09 | \n",
    "| LightGBM | 0.94 | 0.02 | 0.12 | 0.09 |\n",
    "| XGBoost | 0.96 | 0.01 | 0.1 | 0.07 |\n",
    "| Neural Network | 0.95 | 0.01 | 0.11 | NA |\n",
    "\n",
    "The Random Forest and XGBoost models are performing the best in R2 score. But notice that XGBoost has a lower RMSE and MAE than the Random Forest model. Since this is a regression problem, we want to minimize the RMSE and MAE. So we will be using the XGBoost model to predict the price of a vehicle."
   ]
  },
  {
   "cell_type": "markdown",
   "metadata": {},
   "source": [
    "Lets plot the predicted values against the actual values. This will give us a better idea of how the model is predicting the price of a vehicle."
   ]
  },
  {
   "cell_type": "code",
   "execution_count": 16,
   "metadata": {},
   "outputs": [
    {
     "data": {
      "image/png": "[encoded data removed]",
      "text/plain": [
       "<Figure size 720x432 with 1 Axes>"
      ]
     },
     "metadata": {
      "needs_background": "light"
     },
     "output_type": "display_data"
    }
   ],
   "source": [
    "# plotting the actual price vs the predicted price using the XGBoost model\n",
    "plt.figure(figsize=(10, 6))\n",
    "plt.scatter(y_test, xgb.predict(X_test),alpha=0.5, color='red', s=100,\n",
    "            label='Predicted price', marker='o', edgecolors='black', linewidths=1)\n",
    "# plotting the line y=x\n",
    "plt.plot(y_test, y_test, color='blue', label='Actual price')\n",
    "plt.xlabel('Actual price')\n",
    "plt.ylabel('Predicted price')\n",
    "plt.title('Actual price vs Predicted price')\n",
    "plt.show()"
   ]
  },
  {
   "cell_type": "markdown",
   "metadata": {},
   "source": [
    "Notice that the predicted values are very close to the actual values. This means that the model is performing very well with the data. \n",
    "\n",
    "We can also plot the residuals to see if there are any patterns in the residuals."
   ]
  },
  {
   "cell_type": "code",
   "execution_count": 17,
   "metadata": {},
   "outputs": [
    {
     "data": {
      "image/png": "[encoded data removed]",
      "text/plain": [
       "<Figure size 720x432 with 1 Axes>"
      ]
     },
     "metadata": {
      "needs_background": "light"
     },
     "output_type": "display_data"
    }
   ],
   "source": [
    "# plotting the residuals\n",
    "plt.figure(figsize=(10, 6))\n",
    "plt.scatter(xgb.predict(X_test), xgb.predict(X_test) - y_test, alpha=0.5, color='green', s=100,\n",
    "            label='Residuals', marker='o', edgecolors='black', linewidths=1)\n",
    "# plotting the line y=0\n",
    "plt.plot(xgb.predict(X_test), [0 for i in range(len(y_test))], color='blue', label='Residuals')\n",
    "plt.xlabel('Predicted price')\n",
    "plt.ylabel('Residuals')\n",
    "plt.title('Residuals')\n",
    "plt.show()"
   ]
  },
  {
   "cell_type": "markdown",
   "metadata": {},
   "source": [
    "The residuals are randomly distributed around the zero line. This means that the model is performing very well with the data.\n",
    "\n",
    "Another way to evaluate the model is to plot the feature importance. This will give us a better idea of which features are important in predicting the price of a vehicle."
   ]
  },
  {
   "cell_type": "markdown",
   "metadata": {},
   "source": [
    "---"
   ]
  },
  {
   "cell_type": "markdown",
   "metadata": {},
   "source": [
    "## **Feature Selection & Hyperparameter Tuning**\n",
    "\n",
    "Now that we have our model, let's see if we can improve the performance of the model by doing feature selection and hyperparameter tuning. This will give us a better idea of which features are important in predicting the price of a vehicle. Doing feature selection and hyperparameter tuning will also help us to reduce the complexity of the model and reduce the overfitting of the model."
   ]
  },
  {
   "cell_type": "code",
   "execution_count": 12,
   "metadata": {},
   "outputs": [
    {
     "data": {
      "image/png": "[encoded data removed]",
      "text/plain": [
       "<Figure size 1440x1440 with 1 Axes>"
      ]
     },
     "metadata": {
      "needs_background": "light"
     },
     "output_type": "display_data"
    }
   ],
   "source": [
    "# plotting the importance of the features in descending order\n",
    "feature_importances = pd.DataFrame(xgb.feature_importances_, \n",
    "                                   index = X.columns, \n",
    "                                   columns=['importance']).sort_values('importance', ascending=False)\n",
    " \n",
    "plt.figure(figsize=(20,20))\n",
    "sns.barplot(x=feature_importances.importance, y=feature_importances.index, palette='Blues_d')\n",
    "plt.title('Feature importance')\n",
    "plt.show()"
   ]
  },
  {
   "cell_type": "markdown",
   "metadata": {},
   "source": [
    "We can now filter the data to only include only the most important features. Let's see how the model performs with the new data."
   ]
  },
  {
   "cell_type": "code",
   "execution_count": 10,
   "metadata": {},
   "outputs": [],
   "source": [
    "# making a list of the features that have an importance greater than 0.01\n",
    "features = feature_importances[feature_importances.importance > 0.01].index.tolist()\n",
    "\n",
    "# creating a new dataframe with the features that have an importance greater than 0.01\n",
    "X = df[features] \n",
    "y = df['price']\n",
    "\n",
    "# splitting the data into train and test sets\n",
    "X_train, X_test, y_train, y_test = train_test_split(X, y, test_size=0.2, random_state=1)\n",
    " \n",
    "# splitting the train set into train and validation sets\n",
    "X_train, X_val, y_train, y_val = train_test_split(X_train, y_train, test_size=0.2, random_state=1)"
   ]
  },
  {
   "cell_type": "markdown",
   "metadata": {},
   "source": [
    "Now that we reduced the number of features, let's see if we can improve the performance of the model by tuning the model. Let's do a grid search to find the best parameters for the model."
   ]
  },
  {
   "cell_type": "code",
   "execution_count": 10,
   "metadata": {},
   "outputs": [
    {
     "name": "stdout",
     "output_type": "stream",
     "text": [
      "Fitting 5 folds for each of 5 candidates, totalling 25 fits\n",
      "{'subsample': 0.7, 'n_estimators': 500, 'min_child_weight': 3, 'max_depth': 8, 'learning_rate': 0.3, 'colsample_bytree': 0.9}\n"
     ]
    }
   ],
   "source": [
    "# finding the best parameters for the XGBoost model \n",
    "# Importing libraries for hyperparameter tuning\n",
    "from sklearn.model_selection import RandomizedSearchCV\n",
    "from xgboost import XGBRegressor\n",
    "\n",
    "# instantiating the XGBoost model\n",
    "xgb = XGBRegressor(objective='reg:squarederror', n_jobs=-1, random_state=1)\n",
    "  \n",
    "# defining the parameters for the RandomizedSearchCV\n",
    "params = {\n",
    "    'learning_rate': [0.01, 0.05, 0.1, 0.2, 0.3],\n",
    "    'max_depth': [3, 4, 5, 6, 7, 8, 9, 10],\n",
    "    'min_child_weight': [1, 2, 3, 4, 5],\n",
    "    'n_estimators': [100, 200, 300, 400, 500, 600, 700, 800, 900, 1000],\n",
    "    'subsample': [0.5, 0.6, 0.7, 0.8, 0.9, 1.0],\n",
    "    'colsample_bytree': [0.5, 0.6, 0.7, 0.8, 0.9, 1.0]\n",
    "}\n",
    " \n",
    "# instantiating the RandomizedSearchCV\n",
    "random_search = RandomizedSearchCV(xgb, param_distributions=params, n_iter=5, scoring='neg_mean_squared_error', n_jobs=-1, cv=5, verbose=3)\n",
    " \n",
    "# fitting the RandomizedSearchCV to the training data\n",
    "random_search.fit(X_train, y_train)\n",
    " \n",
    "# printing the best parameters\n",
    "print(random_search.best_params_)"
   ]
  },
  {
   "cell_type": "markdown",
   "metadata": {},
   "source": [
    "Now that we have our optimal parameters, let's build our model using the optimal parameters."
   ]
  },
  {
   "cell_type": "code",
   "execution_count": 11,
   "metadata": {},
   "outputs": [
    {
     "name": "stdout",
     "output_type": "stream",
     "text": [
      "Train score: 0.95218688452135\n",
      "Test score: 0.9434077018766683\n",
      "MSE: 0.014730169032120096\n",
      "RMSE: 0.12136790775209111\n",
      "MAE: 0.08680088484600677\n"
     ]
    }
   ],
   "source": [
    "# instantiating the XGBoost model with the best parameters\n",
    "xgb = XGBRegressor(\n",
    "    n_jobs=-1,\n",
    "    learning_rate=0.3,\n",
    "    max_depth=8,\n",
    "    min_child_weight=3,\n",
    "    n_estimators=500,\n",
    "    subsample=0.7,\n",
    "    colsample_bytree=0.9\n",
    "    )\n",
    "\n",
    "# fitting the XGBoost model to the training data\n",
    "xgb.fit(X_train, y_train)\n",
    "\n",
    "# predicting on the test set\n",
    "y_pred = xgb.predict(X_test)\n",
    "\n",
    "# scoring the train and test set\n",
    "print(f'Train score: {xgb.score(X_train, y_train)}')\n",
    "print(f'Test score: {xgb.score(X_test, y_test)}')\n",
    "\n",
    "# calculating the MSE\n",
    "print(f'MSE: {mse(y_test, y_pred)}')\n",
    "\n",
    "# calculating the RMSE\n",
    "print(f'RMSE: {np.sqrt(mse(y_test, y_pred))}')\n",
    " \n",
    "# calculating the MAE\n",
    "print(f'MAE: {np.mean(np.abs(y_test - y_pred))}')"
   ]
  },
  {
   "cell_type": "markdown",
   "metadata": {},
   "source": [
    "Great! The model is performing relatively the same, but with less features. This means that we can reduce the complexity of the model and reduce the overfitting of the model.\n",
    "\n",
    "Let's test the predictions of the model on the test set."
   ]
  },
  {
   "cell_type": "code",
   "execution_count": 13,
   "metadata": {},
   "outputs": [
    {
     "name": "stdout",
     "output_type": "stream",
     "text": [
      "Predicted price: 10.324533462524414\n",
      "Actual price: 10.40420223255139\n"
     ]
    }
   ],
   "source": [
    "# predicting the price of a vehicle and comparing it to the actual price using the XGBoost model\n",
    "print(f\"Predicted price: {y_pred[0]}\")\n",
    "print(f\"Actual price: {y_test.iloc[0]}\")"
   ]
  },
  {
   "cell_type": "markdown",
   "metadata": {},
   "source": [
    "The model is predicting the price of a vehicle very well, with a 8 cent difference between the predicted and actual price of a vehicle.\n",
    "\n",
    "---\n",
    "\n",
    "Now that we have our model, let's save the model for future use."
   ]
  },
  {
   "cell_type": "code",
   "execution_count": 15,
   "metadata": {},
   "outputs": [],
   "source": [
    "# saving the model\n",
    "import pickle\n",
    " \n",
    "# saving the model to disk\n",
    "pickle.dump(xgb, open('xgb_model.pkl', 'wb'))"
   ]
  },
  {
   "cell_type": "markdown",
   "metadata": {},
   "source": [
    "Checking to see if the model is saved."
   ]
  },
  {
   "cell_type": "code",
   "execution_count": 16,
   "metadata": {},
   "outputs": [
    {
     "name": "stdout",
     "output_type": "stream",
     "text": [
      "Predicted price: 10.324533462524414\n",
      "Actual price: 10.40420223255139\n"
     ]
    }
   ],
   "source": [
    "import pickle\n",
    "\n",
    "# loading the model to compare the results\n",
    "model = pickle.load(open('xgb_model.pkl', 'rb'))\n",
    "\n",
    "# predicting the price of a vehicle on input data\n",
    "print(f\"Predicted price: {model.predict(X_test)[0]}\")\n",
    "print(f\"Actual price: {y_test.iloc[0]}\")"
   ]
  },
  {
   "cell_type": "markdown",
   "metadata": {},
   "source": [
    "Great! The model is saved and is ready for future use."
   ]
  },
  {
   "cell_type": "markdown",
   "metadata": {},
   "source": [
    "---\n",
    "\n",
    "## **Summary**\n",
    " \n",
    "In this project, we built a model to predict the price of a vehicle. We used the following models to predict the price of a vehicle:\n",
    " \n",
    "* Linear Regression\n",
    "* KNN\n",
    "* Random Forest\n",
    "* LightGBM\n",
    "* XGBoost\n",
    "* Neural Network\n",
    "\n",
    "We used the R2 score, MSE, RMSE, and MAE to evaluate the performance of the models. The XGBoost model performed the best with an R2 score of 0.96, MSE of 0.01, RMSE of 0.1, and MAE of 0.07. We also used the feature importance to see which features are important in predicting the price of a vehicle. This helped us to reduce the complexity of the model and reduce the overfitting of the model. We also used the residuals to see if there are any patterns in the residuals. This helped us to see if the model is performing well with the data. We also used the predicted values against the actual values to see if the predicted values are close to the actual values. This helped us to see if the model is performing well with the data.\n",
    "\n",
    "We also used the model to predict the price of a vehicle. The model is predicting the price of a vehicle very well, with a 8 cent difference between the predicted and actual price of a vehicle. With this model, we can predict the price of a vehicle with 96% accuracy. This will help us to predict the price of a vehicle and help us to make better decisions when buying or selling a vehicle. "
   ]
  },
  {
   "cell_type": "code",
   "execution_count": 16,
   "metadata": {},
   "outputs": [
    {
     "data": {
      "text/html": [
       "<details>\n",
       "<summary>Click to view session information</summary>\n",
       "<pre>\n",
       "-----\n",
       "keras               2.10.0\n",
       "lightgbm            3.3.3\n",
       "matplotlib          3.6.1\n",
       "numpy               1.23.3\n",
       "pandas              1.5.0\n",
       "seaborn             0.12.0\n",
       "session_info        1.0.0\n",
       "sklearn             1.1.2\n",
       "xgboost             1.6.2\n",
       "-----\n",
       "</pre>\n",
       "<details>\n",
       "<summary>Click to view modules imported as dependencies</summary>\n",
       "<pre>\n",
       "OpenSSL                                     22.0.0\n",
       "PIL                                         9.1.1\n",
       "aa8f2297d25b4dc6fd3d98411eb3ba53823c4f42    NA\n",
       "absl                                        NA\n",
       "asttokens                                   NA\n",
       "astunparse                                  1.6.3\n",
       "backcall                                    0.2.0\n",
       "beta_ufunc                                  NA\n",
       "binom_ufunc                                 NA\n",
       "boto3                                       1.24.96\n",
       "botocore                                    1.27.96\n",
       "certifi                                     2022.05.18.1\n",
       "cffi                                        1.15.1\n",
       "charset_normalizer                          2.0.12\n",
       "cloudpickle                                 2.2.0\n",
       "colorama                                    0.4.6\n",
       "cryptography                                37.0.4\n",
       "cycler                                      0.10.0\n",
       "cython_runtime                              NA\n",
       "dateutil                                    2.8.2\n",
       "debugpy                                     1.6.3\n",
       "decorator                                   5.1.1\n",
       "defusedxml                                  0.7.1\n",
       "entrypoints                                 0.4\n",
       "executing                                   1.2.0\n",
       "flatbuffers                                 22.9.24\n",
       "fsspec                                      2022.10.0\n",
       "gast                                        NA\n",
       "google                                      NA\n",
       "h5py                                        3.7.0\n",
       "hypergeom_ufunc                             NA\n",
       "idna                                        3.3\n",
       "ipykernel                                   6.17.1\n",
       "ipython_genutils                            0.2.0\n",
       "ipywidgets                                  7.7.1\n",
       "jedi                                        0.18.1\n",
       "jmespath                                    1.0.1\n",
       "joblib                                      1.1.0\n",
       "jupyter_server                              1.18.1\n",
       "kiwisolver                                  1.4.2\n",
       "mpl_toolkits                                NA\n",
       "nbinom_ufunc                                NA\n",
       "nt                                          NA\n",
       "ntsecuritycon                               NA\n",
       "opt_einsum                                  v3.3.0\n",
       "packaging                                   21.3\n",
       "parso                                       0.8.3\n",
       "pickleshare                                 0.7.5\n",
       "pkg_resources                               NA\n",
       "platformdirs                                2.5.4\n",
       "prompt_toolkit                              3.0.32\n",
       "psutil                                      5.9.4\n",
       "pure_eval                                   0.2.2\n",
       "pyarrow                                     9.0.0\n",
       "pydev_ipython                               NA\n",
       "pydevconsole                                NA\n",
       "pydevd                                      2.8.0\n",
       "pydevd_file_utils                           NA\n",
       "pydevd_plugins                              NA\n",
       "pydevd_tracing                              NA\n",
       "pygments                                    2.13.0\n",
       "pyparsing                                   3.0.9\n",
       "pythoncom                                   NA\n",
       "pytz                                        2022.1\n",
       "pywin32_bootstrap                           NA\n",
       "pywin32_system32                            NA\n",
       "pywintypes                                  NA\n",
       "requests                                    2.27.1\n",
       "scipy                                       1.8.1\n",
       "setuptools                                  63.2.0\n",
       "six                                         1.16.0\n",
       "socks                                       1.7.1\n",
       "stack_data                                  0.6.1\n",
       "statsmodels                                 0.13.2\n",
       "tensorboard                                 2.10.1\n",
       "tensorflow                                  2.10.0\n",
       "termcolor                                   NA\n",
       "threadpoolctl                               3.1.0\n",
       "tornado                                     6.2\n",
       "traitlets                                   5.5.0\n",
       "typing_extensions                           NA\n",
       "urllib3                                     1.26.9\n",
       "wcwidth                                     0.2.5\n",
       "win32api                                    NA\n",
       "win32com                                    NA\n",
       "win32security                               NA\n",
       "wrapt                                       1.14.1\n",
       "zmq                                         24.0.1\n",
       "zoneinfo                                    NA\n",
       "zope                                        NA\n",
       "</pre>\n",
       "</details> <!-- seems like this ends pre, so might as well be explicit -->\n",
       "<pre>\n",
       "-----\n",
       "IPython             8.6.0\n",
       "jupyter_client      7.4.7\n",
       "jupyter_core        5.0.0\n",
       "jupyterlab          3.4.4\n",
       "notebook            6.4.12\n",
       "-----\n",
       "Python 3.10.8 (tags/v3.10.8:aaaf517, Oct 11 2022, 16:50:30) [MSC v.1933 64 bit (AMD64)]\n",
       "Windows-10-10.0.22621-SP0\n",
       "-----\n",
       "Session information updated at 2022-11-20 10:59\n",
       "</pre>\n",
       "</details>"
      ],
      "text/plain": [
       "<IPython.core.display.HTML object>"
      ]
     },
     "execution_count": 16,
     "metadata": {},
     "output_type": "execute_result"
    }
   ],
   "source": [
    "import session_info\n",
    "session_info.show()"
   ]
  }
 ],
 "metadata": {
  "kernelspec": {
   "display_name": "Python 3.10.8 64-bit",
   "language": "python",
   "name": "python3"
  },
  "language_info": {
   "codemirror_mode": {
    "name": "ipython",
    "version": 3
   },
   "file_extension": ".py",
   "mimetype": "text/x-python",
   "name": "python",
   "nbconvert_exporter": "python",
   "pygments_lexer": "ipython3",
   "version": "3.10.8"
  },
  "orig_nbformat": 4,
  "vscode": {
   "interpreter": {
    "hash": "369f2c481f4da34e4445cda3fffd2e751bd1c4d706f27375911949ba6bb62e1c"
   }
  }
 },
 "nbformat": 4,
 "nbformat_minor": 2
}
